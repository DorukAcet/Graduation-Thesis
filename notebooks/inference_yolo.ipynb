{
 "cells": [
  {
   "cell_type": "code",
   "execution_count": null,
   "id": "1538ed81",
   "metadata": {},
   "outputs": [],
   "source": [
    "!pip install ultralytics\n"
   ]
  },
  {
   "cell_type": "code",
   "execution_count": null,
   "id": "7ac48031",
   "metadata": {},
   "outputs": [],
   "source": [
    "from ultralytics import YOLO\n",
    "import matplotlib.pyplot as plt\n",
    "from PIL import Image\n",
    "import cv2\n"
   ]
  },
  {
   "cell_type": "code",
   "execution_count": null,
   "id": "5c48c181",
   "metadata": {},
   "outputs": [],
   "source": [
    "# Upload 'best.pt' manually to the Colab environment\n",
    "model_path = 'best.pt'\n",
    "image_path = 'data/fish/test/sample.jpg'  # Replace with your actual test image path\n"
   ]
  },
  {
   "cell_type": "code",
   "execution_count": null,
   "id": "7928bbb5",
   "metadata": {},
   "outputs": [],
   "source": [
    "model = YOLO(model_path)\n",
    "results = model(image_path)\n",
    "results[0].save(filename='yolo_result.jpg')\n"
   ]
  },
  {
   "cell_type": "code",
   "execution_count": null,
   "id": "968395f9",
   "metadata": {},
   "outputs": [],
   "source": [
    "img = Image.open('yolo_result.jpg')\n",
    "plt.figure(figsize=(10, 10))\n",
    "plt.imshow(img)\n",
    "plt.axis('off')\n",
    "plt.title('YOLOv11 Prediction')\n",
    "plt.show()\n"
   ]
  }
 ],
 "metadata": {
  "language_info": {
   "name": "python"
  }
 },
 "nbformat": 4,
 "nbformat_minor": 5
}
