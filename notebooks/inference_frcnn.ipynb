{
 "cells": [
  {
   "cell_type": "code",
   "execution_count": null,
   "id": "b5958299",
   "metadata": {},
   "outputs": [],
   "source": [
    "!pip install -U openmim\n",
    "!mim install \"mmengine\"\n",
    "!mim install \"mmcv>=2.0.0\"\n",
    "!mim install \"mmdet>=3.0.0\"\n"
   ]
  },
  {
   "cell_type": "code",
   "execution_count": null,
   "id": "45cfbe02",
   "metadata": {},
   "outputs": [],
   "source": [
    "from mmdet.apis import DetInferencer\n",
    "import matplotlib.pyplot as plt\n",
    "import cv2\n"
   ]
  },
  {
   "cell_type": "code",
   "execution_count": null,
   "id": "d39c7fd0",
   "metadata": {},
   "outputs": [],
   "source": [
    "# Trained model file should be uploaded manually to Colab\n",
    "weights_path = 'epoch_15.pth'\n",
    "image_path = 'data/fish/test/sample.jpg'  # Update this path according to your repo\n"
   ]
  },
  {
   "cell_type": "code",
   "execution_count": null,
   "id": "431454d9",
   "metadata": {},
   "outputs": [],
   "source": [
    "inferencer = DetInferencer(\n",
    "    model='faster_rcnn_r50_fpn_1x_coco',\n",
    "    weights=weights_path\n",
    ")\n",
    "\n",
    "result = inferencer(image_path, out_dir='outputs')\n"
   ]
  },
  {
   "cell_type": "code",
   "execution_count": null,
   "id": "b7f0b0d0",
   "metadata": {},
   "outputs": [],
   "source": [
    "img_result = cv2.imread('outputs/vis/sample.jpg')\n",
    "img_result = cv2.cvtColor(img_result, cv2.COLOR_BGR2RGB)\n",
    "\n",
    "plt.figure(figsize=(10, 10))\n",
    "plt.imshow(img_result)\n",
    "plt.axis('off')\n",
    "plt.title('Faster R-CNN Prediction')\n",
    "plt.show()\n"
   ]
  }
 ],
 "metadata": {
  "language_info": {
   "name": "python"
  }
 },
 "nbformat": 4,
 "nbformat_minor": 5
}
